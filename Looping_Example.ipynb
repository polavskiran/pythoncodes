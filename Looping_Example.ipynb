{
  "nbformat": 4,
  "nbformat_minor": 0,
  "metadata": {
    "colab": {
      "name": "Looping Example.ipynb",
      "provenance": [],
      "authorship_tag": "ABX9TyNZNBP9McU7Vj/svAog7JJk",
      "include_colab_link": true
    },
    "kernelspec": {
      "name": "python3",
      "display_name": "Python 3"
    }
  },
  "cells": [
    {
      "cell_type": "markdown",
      "metadata": {
        "id": "view-in-github",
        "colab_type": "text"
      },
      "source": [
        "<a href=\"https://colab.research.google.com/github/polavskiran/pythoncodes/blob/master/Looping_Example.ipynb\" target=\"_parent\"><img src=\"https://colab.research.google.com/assets/colab-badge.svg\" alt=\"Open In Colab\"/></a>"
      ]
    },
    {
      "cell_type": "code",
      "metadata": {
        "id": "c2S93kC32rIu",
        "colab_type": "code",
        "colab": {
          "base_uri": "https://localhost:8080/",
          "height": 187
        },
        "outputId": "faaebdd4-3707-4da6-9789-4ee1de5d6b71"
      },
      "source": [
        "word = 'abcde'\n",
        "\n",
        "for index,letter in enumerate(word):\n",
        "  print(index)\n",
        "  print(letter)"
      ],
      "execution_count": 3,
      "outputs": [
        {
          "output_type": "stream",
          "text": [
            "0\n",
            "a\n",
            "1\n",
            "b\n",
            "2\n",
            "c\n",
            "3\n",
            "d\n",
            "4\n",
            "e\n"
          ],
          "name": "stdout"
        }
      ]
    },
    {
      "cell_type": "code",
      "metadata": {
        "id": "y7NBHzMb4MIR",
        "colab_type": "code",
        "colab": {
          "base_uri": "https://localhost:8080/",
          "height": 119
        },
        "outputId": "c5b9d85b-2f4f-497c-c9cc-05a717ffc3a1"
      },
      "source": [
        "mylist1 = [1,2,3,4,5,6]\n",
        "mylist2 = ['a','b','c','d','e','f']\n",
        "mylist3 = [100,200,300]\n",
        "\n",
        "zip(mylist1,mylist2,mylist3)\n",
        "\n",
        "for item in zip(mylist1,mylist2):\n",
        "    print(item)"
      ],
      "execution_count": 7,
      "outputs": [
        {
          "output_type": "stream",
          "text": [
            "(1, 'a')\n",
            "(2, 'b')\n",
            "(3, 'c')\n",
            "(4, 'd')\n",
            "(5, 'e')\n",
            "(6, 'f')\n"
          ],
          "name": "stdout"
        }
      ]
    },
    {
      "cell_type": "code",
      "metadata": {
        "id": "vZGs1i_e6S1k",
        "colab_type": "code",
        "colab": {
          "base_uri": "https://localhost:8080/",
          "height": 34
        },
        "outputId": "eea4cb17-edda-4f9a-ff30-3cdee4d3718e"
      },
      "source": [
        "from random import shuffle\n",
        "mylist = [1,2,3,4,5,6,7,8,9,10]\n",
        "mylist"
      ],
      "execution_count": 10,
      "outputs": [
        {
          "output_type": "execute_result",
          "data": {
            "text/plain": [
              "[1, 2, 3, 4, 5, 6, 7, 8, 9, 10]"
            ]
          },
          "metadata": {
            "tags": []
          },
          "execution_count": 10
        }
      ]
    },
    {
      "cell_type": "code",
      "metadata": {
        "id": "gTA_Lwo06ygv",
        "colab_type": "code",
        "colab": {
          "base_uri": "https://localhost:8080/",
          "height": 34
        },
        "outputId": "653f9908-d936-4cc2-a738-32afc536aa4f"
      },
      "source": [
        "shuffle(mylist)\n",
        "mylist"
      ],
      "execution_count": 12,
      "outputs": [
        {
          "output_type": "execute_result",
          "data": {
            "text/plain": [
              "[1, 4, 7, 6, 2, 10, 3, 9, 5, 8]"
            ]
          },
          "metadata": {
            "tags": []
          },
          "execution_count": 12
        }
      ]
    },
    {
      "cell_type": "code",
      "metadata": {
        "id": "9Crq0gKCQzWY",
        "colab_type": "code",
        "colab": {
          "base_uri": "https://localhost:8080/",
          "height": 816
        },
        "outputId": "a3be9010-9c87-4f41-8064-e15e81bc82ff"
      },
      "source": [
        "for num in range(1,101):\n",
        "  if num%3 == 0 and num%5 != 0:\n",
        "    print(num,\"Buzz\")\n",
        "  elif num%3 != 0 and num%5 == 0:\n",
        "    print(num,\"Fizz\")\n",
        "  elif (num%3 == 0) and (num%5 == 0):\n",
        "    print (num,\"FizzBuzz\")"
      ],
      "execution_count": 25,
      "outputs": [
        {
          "output_type": "stream",
          "text": [
            "3 Buzz\n",
            "5 Fizz\n",
            "6 Buzz\n",
            "9 Buzz\n",
            "10 Fizz\n",
            "12 Buzz\n",
            "15 FizzBuzz\n",
            "18 Buzz\n",
            "20 Fizz\n",
            "21 Buzz\n",
            "24 Buzz\n",
            "25 Fizz\n",
            "27 Buzz\n",
            "30 FizzBuzz\n",
            "33 Buzz\n",
            "35 Fizz\n",
            "36 Buzz\n",
            "39 Buzz\n",
            "40 Fizz\n",
            "42 Buzz\n",
            "45 FizzBuzz\n",
            "48 Buzz\n",
            "50 Fizz\n",
            "51 Buzz\n",
            "54 Buzz\n",
            "55 Fizz\n",
            "57 Buzz\n",
            "60 FizzBuzz\n",
            "63 Buzz\n",
            "65 Fizz\n",
            "66 Buzz\n",
            "69 Buzz\n",
            "70 Fizz\n",
            "72 Buzz\n",
            "75 FizzBuzz\n",
            "78 Buzz\n",
            "80 Fizz\n",
            "81 Buzz\n",
            "84 Buzz\n",
            "85 Fizz\n",
            "87 Buzz\n",
            "90 FizzBuzz\n",
            "93 Buzz\n",
            "95 Fizz\n",
            "96 Buzz\n",
            "99 Buzz\n",
            "100 Fizz\n"
          ],
          "name": "stdout"
        }
      ]
    },
    {
      "cell_type": "code",
      "metadata": {
        "id": "oaQ0B7K8TZ3l",
        "colab_type": "code",
        "colab": {}
      },
      "source": [
        ""
      ],
      "execution_count": null,
      "outputs": []
    }
  ]
}